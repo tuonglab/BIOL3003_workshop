{
 "cells": [
  {
   "cell_type": "markdown",
   "metadata": {
    "colab_type": "text",
    "id": "view-in-github"
   },
   "source": [
    "<a href=\"https://colab.research.google.com/github/tuonglab/BIOL3003_workshop/blob/master/notebook/BIOL3003_workshop.ipynb\" target=\"_parent\"><img src=\"https://colab.research.google.com/assets/colab-badge.svg\" alt=\"Open In Colab\"/></a>"
   ]
  },
  {
   "cell_type": "markdown",
   "metadata": {
    "id": "dKplgAn4HDd_"
   },
   "source": [
    "# UQ BIOL3003 Workshop: Introduction to Single-Cell RNA Sequencing Analysis with Python\n",
    "\n",
    "## OVERALL OBJECTIVE\n",
    "\n",
    "Students will work in groups of 2. Each group will be provided with a single-cell data of mouse spleens from n=8 12-week old mice that were sent to the International Space Station by NASA (space; n=4) stayed at ground control (earth; n=4). The data has undergone initial pre-processing to add sample metadata and down sampling to ~3000 cells per sample. The main exercise is to **annotate the major immune cell types found in spleen**. Time permitting, **we will also explore if space travel led to differential abundance of the immune cell types**.\n"
   ]
  },
  {
   "cell_type": "markdown",
   "metadata": {
    "id": "jyeGlt5HkR-O"
   },
   "source": [
    "## STEP 1: Installing pre-requisite software and downloading data\n",
    "\n",
    "This workshop will get you started on single-cell analysis in Python using [`Scanpy`](https://scanpy.readthedocs.io/en/stable/), the toolkit for analysing single-cell gene expression data.\n",
    "\n",
    "<a href=\"https://scanpy.readthedocs.io/en/stable/\"><img src=\"https://scanpy.readthedocs.io/en/stable/_static/Scanpy_Logo_BrightFG.svg\" alt=\"anndata_schema\" width=\"100\">\n"
   ]
  },
  {
   "cell_type": "code",
   "execution_count": null,
   "metadata": {
    "id": "R5OS_FAtkT8A"
   },
   "outputs": [],
   "source": [
    "# install scanpy\n",
    "!pip install scanpy[leiden]\n",
    "# clone the repository so that we have all the data and notebooks ready to go\n",
    "!git clone https://github.com/tuonglab/BIOL3003_workshop.git\n"
   ]
  },
  {
   "cell_type": "markdown",
   "metadata": {},
   "source": [
    "## STEP 2: Loading up software"
   ]
  },
  {
   "cell_type": "code",
   "execution_count": null,
   "metadata": {},
   "outputs": [],
   "source": [
    "import os\n",
    "import pandas as pd\n",
    "import scanpy as sc\n",
    "\n",
    "# change to working directory\n",
    "os.chdir(\"BIOL3003_workshop\")\n",
    "# Print package versions\n",
    "sc.logging.print_header()"
   ]
  },
  {
   "cell_type": "markdown",
   "metadata": {},
   "source": [
    "## STEP 3: Reading the data and inspect the object\n"
   ]
  },
  {
   "cell_type": "code",
   "execution_count": null,
   "metadata": {},
   "outputs": [],
   "source": [
    "adata = sc.read_h5ad(\"data/mouse_spleen.h5ad\")\n",
    "# Print the summary of the object\n",
    "adata"
   ]
  },
  {
   "cell_type": "code",
   "execution_count": null,
   "metadata": {},
   "outputs": [],
   "source": [
    "# View the cell-level metadata\n",
    "adata.obs"
   ]
  },
  {
   "cell_type": "code",
   "execution_count": null,
   "metadata": {},
   "outputs": [],
   "source": [
    "# View the gene-level metadata\n",
    "adata.var"
   ]
  },
  {
   "cell_type": "markdown",
   "metadata": {},
   "source": [
    "## STEP 4: Perform standard quality control\n",
    "\n",
    "### <u>4A: Tabulate %mitochondrial content</u>\n",
    "High mitochondrial content is often associated with poor quality cells. We can calculate the percentage of mitochondrial genes in each cell and plot it.\n"
   ]
  },
  {
   "cell_type": "code",
   "execution_count": null,
   "metadata": {},
   "outputs": [],
   "source": [
    "# mitochondrial genes starts with \"mt-\" for mouse\n",
    "adata.var[\"mt\"] = adata.var_names.str.startswith(\"mt-\")\n",
    "sc.pp.calculate_qc_metrics(adata, qc_vars=[\"mt\"], inplace=True, log1p=True)\n",
    "sc.pl.violin(\n",
    "    adata,\n",
    "    [\n",
    "        \"n_genes_by_counts\",  # the number of genes per cell\n",
    "        \"total_counts\",  # the total UMI counts per cell\n",
    "        \"pct_counts_mt\",  # the percentage of counts in mitochondrial genes\n",
    "    ],\n",
    "    jitter=0.4,\n",
    "    multi_panel=True,\n",
    ")"
   ]
  },
  {
   "cell_type": "markdown",
   "metadata": {},
   "source": [
    "### <u>4B: Filter low quality cells</u>\n",
    "Before performing analysis, we ensure the dataset meets minimal quality standards.\n"
   ]
  },
  {
   "cell_type": "code",
   "execution_count": null,
   "metadata": {},
   "outputs": [],
   "source": [
    "# filter cells if they do not express at least 200 genes\n",
    "sc.pp.filter_cells(adata, min_genes=200)\n",
    "# filter genes if they are expressed in at least 3 cells\n",
    "sc.pp.filter_genes(adata, min_cells=3)\n",
    "# Check to see how many cells/genes were filtered\n",
    "adata"
   ]
  },
  {
   "cell_type": "markdown",
   "metadata": {},
   "source": [
    "### <u>4C: Normalise gene counts</u>\n",
    "Normalization ensures comparability between cells, and log transformation stabilizes variance.\n"
   ]
  },
  {
   "cell_type": "code",
   "execution_count": null,
   "metadata": {},
   "outputs": [],
   "source": [
    "# Normalise (library-size correct) the data matrix 𝐗 to 10,000 counts per cell, so that information become comparable between cells.\n",
    "sc.pp.normalize_total(adata, target_sum=1e4)\n",
    "\n",
    "# Logarithmise the data:\n",
    "sc.pp.log1p(adata)"
   ]
  },
  {
   "cell_type": "markdown",
   "metadata": {},
   "source": [
    "### <u>4D: Highly variable gene selection</u>\n",
    "Highly variable genes are essential for clustering and downstream analysis.\n"
   ]
  },
  {
   "cell_type": "code",
   "execution_count": null,
   "metadata": {},
   "outputs": [],
   "source": [
    "# (Expects logarithimised data)\n",
    "sc.pp.highly_variable_genes(adata, min_mean=0.0125, max_mean=3, min_disp=0.5)\n",
    "sc.pl.highly_variable_genes(adata)"
   ]
  },
  {
   "cell_type": "markdown",
   "metadata": {},
   "source": [
    "### <u>4E: Stash the normalised data in ‘.raw’ for later use</u>"
   ]
  },
  {
   "cell_type": "code",
   "execution_count": null,
   "metadata": {},
   "outputs": [],
   "source": [
    "# stash the normalised counts in .raw\n",
    "adata.raw = adata"
   ]
  },
  {
   "cell_type": "markdown",
   "metadata": {},
   "source": [
    "### <u>4F: Save before continuing</u>"
   ]
  },
  {
   "cell_type": "code",
   "execution_count": null,
   "metadata": {},
   "outputs": [],
   "source": [
    "adata.write_h5ad(\"normalised.h5ad\", compression=\"gzip\")"
   ]
  },
  {
   "cell_type": "markdown",
   "metadata": {},
   "source": [
    "### \\*\\*\\*IF YOU NEED TO RESTART\\*\\*\\*"
   ]
  },
  {
   "cell_type": "code",
   "execution_count": null,
   "metadata": {},
   "outputs": [],
   "source": [
    "adata = sc.read_h5ad(\"normalised.h5ad\")"
   ]
  },
  {
   "cell_type": "markdown",
   "metadata": {},
   "source": [
    "## STEP 5: Dimensionality Reduction I\n",
    "In single-cell data analysis, each cell is described by thousands of features (genes). This high-dimensional data is challenging to work with directly because:\n",
    "1.\tNoise and Redundancy: Many genes may not be relevant to the biological differences we are investigating. Others may show redundant patterns, making the data unnecessarily complex.\n",
    "2.\tVisualization: It's impossible to directly visualize relationships among cells in thousands of dimensions. Dimensionality reduction allows us to represent the data in fewer dimensions, making patterns easier to observe.\n",
    "3.\tEfficiency: Many analysis techniques, like clustering or neighbour graph construction, are computationally expensive in high dimensions. Reducing the dimensions makes these steps faster and more effective.\n",
    "\n",
    "**Principal Component Analysis (PCA)** is a mathematical technique that addresses some of these challenges in a simple manner. It does so by:\n",
    "•\tIdentifying the most important directions (principal components) that capture the largest amount of variance in the data.\n",
    "•\tProjecting the high-dimensional data into a lower-dimensional space (e.g., 10-50 dimensions) while retaining the most important information.\n",
    "\n",
    "### <u>5A: Subset to highly variable genes</u>"
   ]
  },
  {
   "cell_type": "code",
   "execution_count": null,
   "metadata": {},
   "outputs": [],
   "source": [
    "# Filtering so that only meaningful genes are used for PCA\n",
    "adata = adata[:, adata.var[\"highly_variable\"] == True]\n",
    "adata"
   ]
  },
  {
   "cell_type": "markdown",
   "metadata": {},
   "source": [
    "### <u>5B: Regress out effects of total counts per cell and %mitochondrial genes</u>\n",
    "In single-cell RNA-seq data, some technical factors can introduce unwanted variation, which may overshadow the biological differences we're interested in. Two common technical confounders are:\n",
    "1.\tTotal Counts Per Cell: The total number of RNA molecules detected in a cell can vary widely, due to factors like sequencing depth or cell size. This variability doesn't necessarily reflect true biological differences.\n",
    "\n",
    "2.\t% Mitochondrial Genes: High mitochondrial gene expression can indicate stressed or dying cells. These effects might dominate the analysis and obscure meaningful biological variation.\n",
    "\n",
    "By regressing out these effects:\n",
    "•\tWe remove their influence, allowing PCA (and downstream analyses) to focus on biologically relevant variation.\n",
    "•\tThis ensures the major sources of variance in the data represent true differences among cells rather than artifacts of sequencing or cell health.\n"
   ]
  },
  {
   "cell_type": "code",
   "execution_count": null,
   "metadata": {},
   "outputs": [],
   "source": [
    "sc.pp.regress_out(adata, [\"total_counts\", \"pct_counts_mt\"])"
   ]
  },
  {
   "cell_type": "markdown",
   "metadata": {},
   "source": [
    "### <u>5C: Scale each gene to unit variance. Clip values exceeding standard deviation of 10</u>\n",
    "Once technical effects are removed, the next step is to scale the data so that all genes contribute equally to the analysis:\n",
    "1.\tScaling to Unit Variance: Genes vary widely in their expression levels. Without scaling, highly expressed genes could dominate PCA simply due to their magnitude, even if they're not the most biologically variable. Scaling ensures that each gene is represented in the form of standard deviations of each gene’s mean, making their individual contributions to PCA more balanced.\n",
    "\n",
    "2.\tClipping Values: Some genes may have outlier expression values that could disproportionately influence PCA. By clipping values exceeding a standard deviation of 10, we limit the impact of these extreme outliers, ensuring a more robust analysis.\n"
   ]
  },
  {
   "cell_type": "code",
   "execution_count": null,
   "metadata": {},
   "outputs": [],
   "source": [
    "sc.pp.scale(adata, max_value=10)"
   ]
  },
  {
   "cell_type": "markdown",
   "metadata": {},
   "source": [
    "### <u>5D: Perform Principal Component Analysis (PCA)</u>"
   ]
  },
  {
   "cell_type": "code",
   "execution_count": null,
   "metadata": {},
   "outputs": [],
   "source": [
    "sc.tl.pca(adata, svd_solver=\"arpack\", n_comps=50)\n",
    "# visualise the variance contribution by each PC\n",
    "sc.pl.pca_variance_ratio(adata, log=True, n_pcs=50)"
   ]
  },
  {
   "cell_type": "markdown",
   "metadata": {},
   "source": [
    "## STEP 6: Dimensionality Reduction II\n",
    "While dimensionality reduction techniques like PCA reduce the data to fewer dimensions, 50 in the case of this exercise, we still need a way to visualize these high-dimensional relationships in an intuitive format, such as a 2-dimensional scatter plot. \n",
    "\n",
    "UMAP stands for Uniform Manifold Approximation and Projection. UMAP is a dimensionality reduction technique designed for visualizing high-dimensional data in low-dimensional spaces (e.g., 2D or 3D). Unlike PCA, which focuses on capturing variance, UMAP is a nonlinear method that preserves the local structure of the data, making it particularly useful for visualizing clusters and patterns in biological datasets.\n",
    "\n",
    "UMAP creates a visualization by:\n",
    "1.\tConstructing a graph of nearest neighbours in the high-dimensional space (based on the PCA-reduced data).\n",
    "\n",
    "2.\tLearning a low-dimensional representation that preserves these local relationships as much as possible.\n",
    "\n",
    "### 6A: Compute neighbourhood graph\n",
    "\n",
    "### \\*\\*\\*OPTIONAL PARAMETER(S) TO ADJUST\\*\\*\\*\n",
    "\n",
    "> **n_neighbors**: Controls how UMAP balances capturing local vs. global structure. Smaller values (e.g., 10) focus on local relationships, which is ideal for resolving tight clusters or rare cell types. Larger values (e.g., 50) give a broader view of the data, capturing more global relationships at the expense of finer details.\n",
    ">\n",
    "> **n_pcs**: Specifies the number of principal components (PCs) to use as input for UMAP. This parameter determines how much of the variance in the original data is captured before UMAP is applied."
   ]
  },
  {
   "cell_type": "code",
   "execution_count": null,
   "metadata": {},
   "outputs": [],
   "source": [
    "sc.pp.neighbors(adata, n_neighbors=10, n_pcs=40)"
   ]
  },
  {
   "cell_type": "markdown",
   "metadata": {},
   "source": [
    "### <u>6B: Embed the neighbourhood graph using UMAP</u>\n",
    "\n",
    "### \\*\\*\\*OPTIONAL PARAMETER(S) TO ADJUST\\*\\*\\*\n",
    "\n",
    "> **min_dist**: Determines how tightly UMAP clusters points. Smaller values result in tighter clusters, while larger values spread them out.\n"
   ]
  },
  {
   "cell_type": "code",
   "execution_count": null,
   "metadata": {},
   "outputs": [],
   "source": [
    "sc.tl.umap(adata, min_dist=0.3)"
   ]
  },
  {
   "cell_type": "markdown",
   "metadata": {},
   "source": [
    "### <u>6C: Visualise the UMAP</u>\n",
    "\n",
    "### \\*\\*\\*OPTIONAL PARAMETER(S) TO ADJUST\\*\\*\\*\n",
    "\n",
    "> **color**: column names found in the metadata (adata.obs) or specific gene names e.g. CD4\n"
   ]
  },
  {
   "cell_type": "code",
   "execution_count": null,
   "metadata": {},
   "outputs": [],
   "source": [
    "sc.pl.umap(adata, color=[\"group\"])"
   ]
  },
  {
   "cell_type": "markdown",
   "metadata": {},
   "source": [
    "## STEP 7: Clustering\n",
    "Clustering is a critical step that allows us to group cells with similar gene expression profiles. These clusters often correspond to distinct cell types or states, helping us uncover the biological diversity present in a tissue or condition.\n",
    "\n",
    "We will use the leiden algorithm to cluster the cells into different groups. It is a graph-based clustering algorithm that is very popular in single-cell analysis. It is based on optimizing a modularity function that is used to detect communities in networks.\n",
    "\n",
    "### \\*\\*\\*OPTIONAL PARAMETER(S) TO ADJUST\\*\\*\\*\n",
    "\n",
    "> **resolution**: parameter that can be tuned to get different levels of granularity in the clustering. Higher resolutions give finer (more) clusters while lower resolutions give broader (less) clusters. Experiment with the different resolutions!\n",
    "\n"
   ]
  },
  {
   "cell_type": "code",
   "execution_count": null,
   "metadata": {},
   "outputs": [],
   "source": [
    "sc.tl.leiden(adata, resolution=1)"
   ]
  },
  {
   "cell_type": "markdown",
   "metadata": {},
   "source": [
    "## STEP 8: Cell-type annotation\n",
    "\n",
    "From here on, the analysis will be more focused on the biological interpretation of the clusters. We will use marker genes to annotate the clusters with cell types.\n",
    "\n",
    "The way to approach this can vary and will first try a manual approach. Ask yourself, what are relevant genes for a celltype? What are the marker genes that you would expect to see?\n",
    "\n",
    "# KEY TASK(S) FOR STUDENT\n",
    "\n",
    "## Student groups need to each come up with their own sets of genes that can be used to associate each cluster in the single-cell data with a cell-type identity found in mouse spleen (at least 3 genes per identity). Several clusters can be the same cell-type.\n"
   ]
  },
  {
   "cell_type": "code",
   "execution_count": null,
   "metadata": {},
   "outputs": [],
   "source": [
    "marker_genes = [\"gene 1\", \"gene 2\"]\n",
    "# Plot the marker genes on a dotplot\n",
    "sc.pl.dotplot(\n",
    "    adata, marker_genes, groupby=\"leiden\", standard_scale=\"var\", color_map=\"Blues\"\n",
    ")\n",
    "# Plot the marker genes on the umap\n",
    "sc.pl.umap(adata, color=marker_genes, color_map=\"viridis\")"
   ]
  },
  {
   "cell_type": "markdown",
   "metadata": {},
   "source": [
    "Another way is to show using a statistical test to identify marker genes for each cluster. We will use the ‘rank_genes_groups’ function from ‘scanpy’ to identify statistically significant marker genes for each cluster."
   ]
  },
  {
   "cell_type": "code",
   "execution_count": null,
   "metadata": {},
   "outputs": [],
   "source": [
    "sc.tl.rank_genes_groups(adata, groupby=\"leiden\")"
   ]
  },
  {
   "cell_type": "markdown",
   "metadata": {},
   "source": [
    "Visualise the top statistically significant marker genes for each cluster.\n",
    "\n",
    "### \\*\\*\\*OPTIONAL PARAMETER(S) TO ADJUST\\*\\*\\*\n",
    "\n",
    "> **n_genes**: this adjusts how many top genes to plot\n"
   ]
  },
  {
   "cell_type": "code",
   "execution_count": null,
   "metadata": {},
   "outputs": [],
   "source": [
    "sc.pl.rank_genes_groups(adata, n_genes=25, sharey=False)"
   ]
  },
  {
   "cell_type": "markdown",
   "metadata": {},
   "source": [
    "We can also visualise this as a dot plot.\n",
    "\n",
    "### \\*\\*\\*OPTIONAL PARAMETER(S) TO ADJUST\\*\\*\\*\n",
    "\n",
    "> **n_genes**: this adjusts how many top genes to plot\n",
    ">\n",
    "> **color_map**: this adjust the colours. Try Reds, Greens, viridis and more! https://matplotlib.org/stable/users/explain/colors/colormaps.html\n",
    ">\n",
    "> **min_logfoldchange**: this controls the minimum log fold change cutoff in order for the gene to be plotted\n"
   ]
  },
  {
   "cell_type": "code",
   "execution_count": null,
   "metadata": {},
   "outputs": [],
   "source": [
    "sc.pl.rank_genes_groups_dotplot(\n",
    "    adata, n_genes=3, color_map=\"Blues\", standard_scale=\"var\", min_logfoldchange=1\n",
    ")"
   ]
  },
  {
   "cell_type": "markdown",
   "metadata": {},
   "source": [
    "## STEP 9: Mapping cell-type labels to data\n",
    "\n",
    "Now that we have determine what cell-types each cluster correspond to, it’s time to transfer them to the data so that we can visualise them.\n"
   ]
  },
  {
   "cell_type": "code",
   "execution_count": null,
   "metadata": {},
   "outputs": [],
   "source": [
    "# We will use a dictionary to map the labels\n",
    "cell_types_dictionary = {\n",
    "    \"0\": \"Celltype A\",\n",
    "    \"1\": \"Celltype B\",\n",
    "    \"2\": \"Celltype C\",\n",
    "    \"3\": \"Celltype D\",\n",
    "}\n",
    "adata.obs[\"cell_type\"] = [cell_types_dictionary[x] for x in adata.obs[\"leiden\"]]"
   ]
  },
  {
   "cell_type": "markdown",
   "metadata": {},
   "source": [
    "### Visualise the cell-types on the UMAP"
   ]
  },
  {
   "cell_type": "code",
   "execution_count": null,
   "metadata": {},
   "outputs": [],
   "source": [
    "sc.pl.umap(adata, color=\"cell_type\")\n",
    "# You can also plot the legend directly on the data\n",
    "sc.pl.umap(adata, color=\"cell_type\", legend_loc=\"on data\", legend_fontoutline=2)"
   ]
  },
  {
   "cell_type": "markdown",
   "metadata": {},
   "source": [
    "# Save your progress"
   ]
  },
  {
   "cell_type": "code",
   "execution_count": null,
   "metadata": {},
   "outputs": [],
   "source": [
    "adata.write_h5ad(\"processed.h5ad\", compression=\"gzip\")"
   ]
  },
  {
   "cell_type": "markdown",
   "metadata": {},
   "source": [
    "If you want to load it up again, do:"
   ]
  },
  {
   "cell_type": "code",
   "execution_count": null,
   "metadata": {},
   "outputs": [],
   "source": [
    "adata = sc.read_h5ad(\"processed.h5ad\")\n",
    "adata"
   ]
  },
  {
   "cell_type": "markdown",
   "metadata": {},
   "source": [
    "# BONUS TASK FOR STUDENTS\n",
    "\n",
    "## Student groups to compare whether cell-type proportions are different between space or earth mice.\n",
    "\n",
    "## STEP 10: Tabulate the proportions of each cell-type\n",
    "\n",
    "We will use the `pandas` library to do some data frame manipulation that will let us tabulate the proportions of each cell type, split by mice that were in space or on ground control.\n"
   ]
  },
  {
   "cell_type": "code",
   "execution_count": null,
   "metadata": {},
   "outputs": [],
   "source": [
    "data = pd.crosstab(adata.obs[\"cell_type\"], adata.obs[\"sample\"])\n",
    "data"
   ]
  },
  {
   "cell_type": "markdown",
   "metadata": {},
   "source": [
    "We can now save this new data and extract the values to do some statistical analysis with software such as Prism, Microsoft Excel, or within Python directly."
   ]
  },
  {
   "cell_type": "code",
   "execution_count": null,
   "metadata": {},
   "outputs": [],
   "source": [
    "data.to_csv(\"proportions.csv\")"
   ]
  },
  {
   "cell_type": "markdown",
   "metadata": {},
   "source": [
    "You will need to refer to the metadata to match the samples to the relevant groups:\n"
   ]
  },
  {
   "cell_type": "code",
   "execution_count": null,
   "metadata": {},
   "outputs": [],
   "source": [
    "adata.obs.drop_duplicates(subset=[\"sample\"])[[\"sample\", \"group\"]].reset_index(drop=True)"
   ]
  }
 ],
 "metadata": {
  "colab": {
   "include_colab_link": true,
   "provenance": []
  },
  "kernelspec": {
   "display_name": "dandelion",
   "language": "python",
   "name": "python3"
  },
  "language_info": {
   "codemirror_mode": {
    "name": "ipython",
    "version": 3
   },
   "file_extension": ".py",
   "mimetype": "text/x-python",
   "name": "python",
   "nbconvert_exporter": "python",
   "pygments_lexer": "ipython3",
   "version": "3.11.9"
  }
 },
 "nbformat": 4,
 "nbformat_minor": 0
}
