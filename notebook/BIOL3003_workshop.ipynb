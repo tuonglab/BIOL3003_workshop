{
 "cells": [
  {
   "cell_type": "markdown",
   "metadata": {
    "colab_type": "text",
    "id": "view-in-github"
   },
   "source": [
    "<a href=\"https://colab.research.google.com/github/tuonglab/BIOL3003_workshop/blob/master/notebook/BIOL3003_workshop.ipynb\" target=\"_parent\"><img src=\"https://colab.research.google.com/assets/colab-badge.svg\" alt=\"Open In Colab\"/></a>"
   ]
  },
  {
   "cell_type": "markdown",
   "metadata": {
    "id": "dKplgAn4HDd_"
   },
   "source": [
    "# UQ BIOL3003 Workshop: Introduction to Single-Cell RNA Sequencing Analysis with Python\n",
    "\n",
    "<span style=\"color:red; font-weight:bold; font-size:24px\">This is an introductory exercise to how to performing cell-type annotation in single-cell RNA-sequencing analysis with Python.</span>\n",
    "\n",
    "Students will work in groups of 2-4. Each group will be provided with a single-cell dataset of mouse spleens from 12-week old mice that were sent to the International Space Station by NASA (space; n=4) versus mice that stayed at ground control (earth; n=4). The main exercise is to <span style=\"color:red; font-weight:bold\">annotate the major immune cell types found in spleen</span> in Python using [`Scanpy`](https://scanpy.readthedocs.io/en/stable/), the toolkit for analysing single-cell gene expression data. Time permitting, <span style=\"color:red; font-weight:bold\">we will also quickly explore if space travel led to differential abundance of the immune cell types</span>. The data has undergone initial pre-processing to enable the cell-type annotation exercise.\n",
    "\n",
    "<span style=\"color:red; font-weight:bold; font-size:24px\">Unless otherwise instructed, for every step below, the student will simply need to run the entire CODE CHUNK by clicking the run/play “►” button to execute the code.</span>"
   ]
  },
  {
   "cell_type": "markdown",
   "metadata": {
    "id": "jyeGlt5HkR-O"
   },
   "source": [
    "### STEP 1: Installing pre-requisite software and downloading data"
   ]
  },
  {
   "cell_type": "code",
   "execution_count": null,
   "metadata": {
    "id": "R5OS_FAtkT8A"
   },
   "outputs": [],
   "source": [
    "# install scanpy\n",
    "!pip install scanpy[leiden]\n",
    "# clone the repository so that we have all the data and notebooks ready to go\n",
    "!git clone https://github.com/tuonglab/BIOL3003_workshop.git\n"
   ]
  },
  {
   "cell_type": "markdown",
   "metadata": {},
   "source": [
    "### STEP 2: Loading up software"
   ]
  },
  {
   "cell_type": "code",
   "execution_count": 1,
   "metadata": {},
   "outputs": [],
   "source": [
    "import os\n",
    "import scanpy as sc\n",
    "\n",
    "# change to working directory\n",
    "os.chdir(\"BIOL3003_workshop\")"
   ]
  },
  {
   "cell_type": "markdown",
   "metadata": {},
   "source": [
    "### STEP 3: Reading the data and inspect the object\n",
    "\n",
    "We will read the processed data and assign it to a variable called `adata`. We will then inspect the object to understand the structure of the data."
   ]
  },
  {
   "cell_type": "code",
   "execution_count": null,
   "metadata": {},
   "outputs": [],
   "source": [
    "adata = sc.read_h5ad(\"data/mouse_spleen_processed.h5ad\")\n",
    "# Print the summary of the object\n",
    "adata"
   ]
  },
  {
   "cell_type": "markdown",
   "metadata": {},
   "source": [
    "<span style=\"color:red; font-weight:bold; font-size:36px\">Question 1. How many cells are there in the dataset?</span>\n"
   ]
  },
  {
   "cell_type": "markdown",
   "metadata": {},
   "source": [
    "### STEP 4: Visualising the data - Clusters\n",
    "\n",
    "We will visualise the data using a UMAP plot. Don't need to worry about what UMAP stands for. UMAP is a dimensionality reduction technique that is commonly used in single-cell analysis to visualise high-dimensional data in 2D or 3D. It is particularly useful for visualising clusters of cells and gene expression patterns. Here, every single dot represents a single cell in the dataset.\n",
    "\n",
    "We will first visualise the data coloured by the clusters that were identified during the clustering step in the pre-processing.\n"
   ]
  },
  {
   "cell_type": "code",
   "execution_count": null,
   "metadata": {},
   "outputs": [],
   "source": [
    "sc.pl.umap(adata, color=\"leiden\")"
   ]
  },
  {
   "cell_type": "markdown",
   "metadata": {},
   "source": [
    "Sometimes, it is difficult to connect the clusters on the UMAP to the legend. We will add a few more arguments to the `sc.pl.umap` function to make the plot more informative."
   ]
  },
  {
   "cell_type": "code",
   "execution_count": null,
   "metadata": {},
   "outputs": [],
   "source": [
    "sc.pl.umap(adata, color=\"leiden\", legend_loc=\"on data\", legend_fontoutline=2)"
   ]
  },
  {
   "cell_type": "markdown",
   "metadata": {},
   "source": [
    "<span style=\"color:red; font-weight:bold; font-size:36px\">Question 2. How many clusters have been found in the dataset?</span>"
   ]
  },
  {
   "cell_type": "markdown",
   "metadata": {},
   "source": [
    "### STEP 5: Visualising gene expression with UMAP - I\n",
    "\n",
    "We will now visualise the data coloured by the expression of a gene of interest. We will use the gene `Cd4`, which is a gene that is commonly used to identify CD4 T cells\n"
   ]
  },
  {
   "cell_type": "code",
   "execution_count": null,
   "metadata": {},
   "outputs": [],
   "source": [
    "sc.pl.umap(adata, color=\"Cd4\")"
   ]
  },
  {
   "cell_type": "markdown",
   "metadata": {},
   "source": [
    "The size of the dots in the plot are a bit too small. So we will increase the size of the dots by setting the `size` argument in the `sc.pl.umap` function to `20`."
   ]
  },
  {
   "cell_type": "code",
   "execution_count": null,
   "metadata": {},
   "outputs": [],
   "source": [
    "sc.pl.umap(adata, color=\"Cd4\", size=20)"
   ]
  },
  {
   "cell_type": "markdown",
   "metadata": {},
   "source": [
    "### STEP 6: Visualising gene expression with UMAP - II\n",
    "\n",
    "Now, let's repeat the same as step 5 but with a different gene, `Cd8a`, which is a gene that is commonly used to identify CD8 T cells."
   ]
  },
  {
   "cell_type": "code",
   "execution_count": null,
   "metadata": {},
   "outputs": [],
   "source": [
    "sc.pl.umap(adata, color=\"Cd8a\", size=20)"
   ]
  },
  {
   "cell_type": "markdown",
   "metadata": {},
   "source": [
    "<span style=\"color:red; font-weight:bold; font-size:36px\">Question 3. From steps 5 and 6, which cluster numbers probably correspond to CD4 T cells and CD8 T cells?</span>"
   ]
  },
  {
   "cell_type": "markdown",
   "metadata": {},
   "source": [
    "### STEP 7: Visualising gene expression with dot plots\n",
    "\n",
    "Another way we can visualise the data is to plot the expression of the genes in a dot plot across the clusters. We will use the `sc.pl.dotplot` function to do this. The size of the circles in the dot plot corresponds to the fraction of cells in the cluster that express the gene. The colour of the circles corresponds to the average expression of the gene in the cluster. Therefore, the larger the circle and higher or darker the colour on the gradient, the more highly expressed the gene is in the cluster. \n",
    "\n",
    "We will plot the expression of the genes `Cd4` and `Cd8a` in the dot plot.\n",
    "\n",
    "Try changing the `color_map` from 'Blues' to 'viridis' or 'magma' to see how the plot changes."
   ]
  },
  {
   "cell_type": "code",
   "execution_count": null,
   "metadata": {},
   "outputs": [],
   "source": [
    "sc.pl.dotplot(\n",
    "    adata, [\"Cd4\", \"Cd8a\"], groupby=\"leiden\", standard_scale=\"var\", color_map=\"Blues\"\n",
    ")"
   ]
  },
  {
   "cell_type": "markdown",
   "metadata": {},
   "source": [
    "<span style=\"color:red; font-weight:bold; font-size:36px\">Question 4. Which cluster numbers probably correspond to CD4 T cells and CD8 T cells? Does this match your answer from question 3?</span>\n",
    "\n",
    "### STEP 7: Visualising the top marker genes of each cluster with dot plots\n",
    "\n",
    "Marker genes are genes that are highly expressed in a particular cluster compared to other clusters. This is typically performed using statistical tests such as the Wilcoxon rank-sum test. This has been done for you and we can visualise the top marker genes using the `sc.pl.rank_genes_groups_dotplot`function.\n",
    "\n",
    "Let's look at the top `3` marker genes, limiting to only genes that are at least 1 log-fold higher in expression in the cluster compared to other clusters. \n",
    "\n",
    "Try changing the `n_genes` argument to `5` to see the top 5 marker genes."
   ]
  },
  {
   "cell_type": "code",
   "execution_count": null,
   "metadata": {},
   "outputs": [],
   "source": [
    "sc.pl.rank_genes_groups_dotplot(\n",
    "    adata, n_genes=3, color_map=\"Blues\", standard_scale=\"var\", min_logfoldchange=1\n",
    ")"
   ]
  },
  {
   "cell_type": "code",
   "execution_count": null,
   "metadata": {},
   "outputs": [],
   "source": [
    "sc.pl.rank_genes_groups(adata, sharey=False)"
   ]
  },
  {
   "cell_type": "markdown",
   "metadata": {},
   "source": [
    "<span style=\"color:red; font-weight:bold; font-size:36px\">Question 5. What are the top 3-5 marker genes that could be useful to annotate the following cell types in mouse spleen?</span>\n",
    "\n",
    "I will give you a hint for the first cell type:\n",
    "    \n",
    "    - Haematopoietic stem cells\n",
    "        Cd34\n",
    "        Spn # Also known as CD43\n",
    "        Kit # Also known as CD117\n",
    "\n",
    "Fill in the rest of the cell types:\n",
    "\n",
    "    - Developing B cells\n",
    "\n",
    "    - B cells\n",
    "\n",
    "    - Plasma cells\n",
    "\n",
    "    - CD4 T cells\n",
    "\n",
    "    - CD8 T cells\n",
    "\n",
    "    - NK cells\n",
    "    \n",
    "    - Macrophages\n",
    "\n",
    "    - Monocytes\n",
    "\n",
    "    - Neutrophils\n",
    "    \n",
    "    - Dendritic cells\n",
    "\n",
    "    - Plasmacytoid Dendritic cells\n",
    "\n",
    "    - Erythrocytes\n",
    "\n",
    "    - Platelets\n",
    "\n",
    "    - Endothelial cells/Fibroblasts/stromal cells\n",
    "\n",
    "    "
   ]
  },
  {
   "cell_type": "markdown",
   "metadata": {},
   "source": [
    "### STEP 8: Selecting the best marker genes for each cell type\n",
    "\n",
    "Let's visualise your response to question 5 as a dot plot to see if the marker genes are indeed specific to the cell types.\n",
    "\n",
    "Fill in the `marker_genes_dict` dictionary with at least 3 genes that can potentially be used as marker genes for each cell-type and then run the code. I have filled in the first one for you."
   ]
  },
  {
   "cell_type": "code",
   "execution_count": null,
   "metadata": {},
   "outputs": [],
   "source": [
    "marker_genes_dict = {\n",
    "    \"Haematopoietic stem cells\": [\"Cd34\", \"Spn\", \"Kit\"],\n",
    "    \"Developing B cells\": [],\n",
    "    \"B cells\": [],\n",
    "    \"Plasma cells\": [],\n",
    "    \"CD4 T cells\": [],\n",
    "    \"CD8 T cells\": [],\n",
    "    \"NK cells\": [],\n",
    "    \"Macrophages\": [],\n",
    "    \"Monocytes\": [],\n",
    "    \"Neutrophils\": [],\n",
    "    \"Dendritic cells\": [],\n",
    "    \"Plasmacytoid Dendritic cells\": [],\n",
    "    \"Erythrocytes\": [],\n",
    "    \"Platelets\": [],\n",
    "    \"Endothelial cells\": [],\n",
    "    \"Fibroblasts/stromal cells\": [],\n",
    "}\n",
    "sc.pl.dotplot(\n",
    "    adata, marker_genes_dict, groupby=\"leiden\", standard_scale=\"var\", color_map=\"Blues\"\n",
    ")"
   ]
  },
  {
   "cell_type": "markdown",
   "metadata": {},
   "source": [
    "### STEP 9: Annotating the cell types\n",
    "\n",
    "We will now annotate the cell types in the dataset using the marker genes that you have selected. We will create a dictionary called `cell_type_dict` where the keys are the cluster numbers and the values are the cell types that you have annotated. When you run the code, the function will annotate the cell type and plot the UMAP coloured by the cell types you have annotated. Rerun this code chunk until you are satisfied with the annotation.\n",
    "\n",
    "I have filled in cluster `8` for you. Students are to fill in the rest of the clusters.\n"
   ]
  },
  {
   "cell_type": "code",
   "execution_count": null,
   "metadata": {},
   "outputs": [],
   "source": [
    "cell_type_dict = {\n",
    "    \"0\": \"\",\n",
    "    \"1\": \"\",\n",
    "    \"2\": \"\",\n",
    "    \"3\": \"\",\n",
    "    \"4\": \"\",\n",
    "    \"5\": \"\",\n",
    "    \"6\": \"\",\n",
    "    \"7\": \"\",\n",
    "    \"8\": \"B cells\",\n",
    "    \"9\": \"\",\n",
    "    \"10\": \"\",\n",
    "    \"11\": \"\",\n",
    "    \"12\": \"\",\n",
    "    \"13\": \"\",\n",
    "    \"14\": \"\",\n",
    "    \"15\": \"\",\n",
    "    \"16\": \"\",\n",
    "    \"17\": \"\",\n",
    "    \"18\": \"\",\n",
    "    \"19\": \"\",\n",
    "    \"20\": \"\",\n",
    "    \"21\": \"\",\n",
    "    \"22\": \"\",\n",
    "    \"23\": \"\",\n",
    "    \"24\": \"\",\n",
    "    \"25\": \"\",\n",
    "    \"26\": \"\",\n",
    "    \"27\": \"\",\n",
    "}\n",
    "adata.obs[\"cell_type\"] = adata.obs[\"leiden\"].map(cell_type_dict)\n",
    "sc.pl.umap(adata, color=\"cell_type\")"
   ]
  },
  {
   "cell_type": "markdown",
   "metadata": {},
   "source": [
    "<span style=\"color:blue; font-weight:bold; font-size:24px\">BONUS EXERCISE FOR STUDENTS</span>\n",
    "\n",
    "Now that we have annotated the cell types, we can explore if space travel led to differential abundance of the immune cell types. Let's first tabulate how many cells of each cell type are present in the dataset, split by mice that were in space or on ground control.\n",
    "\n",
    "We will use the `pandas` library to do some data frame manipulation that will let us tabulate the proportions of each cell type, split by mice that were in space or on ground control.\n"
   ]
  },
  {
   "cell_type": "code",
   "execution_count": null,
   "metadata": {},
   "outputs": [],
   "source": [
    "import pandas as pd\n",
    "\n",
    "data = pd.crosstab(adata.obs[\"sample\"], adata.obs[\"cell_type\"])\n",
    "data"
   ]
  },
  {
   "cell_type": "markdown",
   "metadata": {},
   "source": [
    "Let's express this as a percentage of the total number of cells in each mouse."
   ]
  },
  {
   "cell_type": "code",
   "execution_count": null,
   "metadata": {},
   "outputs": [],
   "source": [
    "proportion = data.apply(lambda r: r / r.sum() * 100)\n",
    "proportion"
   ]
  },
  {
   "cell_type": "markdown",
   "metadata": {},
   "source": [
    "Let's plot the proportions as barplots. We first need to rehape the data "
   ]
  },
  {
   "cell_type": "code",
   "execution_count": null,
   "metadata": {},
   "outputs": [],
   "source": [
    "# create a new column to split the conditions\n",
    "proportion[\"group\"] = proportion.index.str.split(\"_\").str[0]\n",
    "proportion.plot(kind=\"box\", by=\"group\", subplots=True, layout=(5, 4), figsize=(10, 20))"
   ]
  },
  {
   "cell_type": "markdown",
   "metadata": {},
   "source": [
    "Let's perform a simple t-test to see if the proportions of each cell type are different between the space and ground control mice."
   ]
  },
  {
   "cell_type": "code",
   "execution_count": null,
   "metadata": {},
   "outputs": [],
   "source": [
    "from scipy.stats import ttest_ind\n",
    "\n",
    "for cell_type in data.columns:\n",
    "    earth = proportion[proportion[\"group\"] == \"earth\"][cell_type]\n",
    "    space = proportion[proportion[\"group\"] == \"space\"][cell_type]\n",
    "    ttest = ttest_ind(earth, space)\n",
    "    print(f\"{cell_type}: {ttest.pvalue.round(4)}\")"
   ]
  },
  {
   "cell_type": "markdown",
   "metadata": {},
   "source": [
    "<span style=\"color:blue; font-weight:bold; font-size:24px\">Bonus Question. So, did space travel led to differential abundance of any of the immune cell types?</span>"
   ]
  },
  {
   "cell_type": "code",
   "execution_count": null,
   "metadata": {},
   "outputs": [],
   "source": []
  },
  {
   "cell_type": "markdown",
   "metadata": {},
   "source": [
    "# Appendix: Code for performing the pre-processing of the data\n",
    "\n",
    "Students are not required to run this code - this was done before the workshop to prepare the data for the workshop and is provided here for reference.\n",
    "\n",
    "```python\n",
    "import scanpy as sc\n",
    "# Read the unprocessed data\n",
    "adata = sc.read_h5ad(\"data/mouse_spleen.h5ad\")\n",
    "# mitochondrial genes starts with \"mt-\" for mouse\n",
    "adata.var[\"mt\"] = adata.var_names.str.startswith(\"mt-\")\n",
    "sc.pp.calculate_qc_metrics(adata, qc_vars=[\"mt\"], inplace=True, log1p=True)\n",
    "# filter cells if they do not express at least 200 genes\n",
    "sc.pp.filter_cells(adata, min_genes=200)\n",
    "# filter genes if they are expressed in at least 3 cells\n",
    "sc.pp.filter_genes(adata, min_cells=3)\n",
    "# Normalise (library-size correct) the data matrix 𝐗 to 10,000 counts per cell, so that information become comparable between cells.\n",
    "sc.pp.normalize_total(adata, target_sum=1e4)\n",
    "# Logarithmise the data:\n",
    "sc.pp.log1p(adata)\n",
    "# Identify highly variable genes\n",
    "sc.pp.highly_variable_genes(adata)\n",
    "# stash the normalised counts in .raw\n",
    "adata.raw = adata\n",
    "# Regress out the effects of total counts per cell and the percentage of mitochondrial genes expressed\n",
    "sc.pp.regress_out(adata, [\"total_counts\", \"pct_counts_mt\"])\n",
    "# Scale the data\n",
    "sc.pp.scale(adata, max_value=10)\n",
    "# Perform PCA\n",
    "sc.tl.pca(adata, svd_solver=\"arpack\", n_comps=80)\n",
    "# Compute the neighborhood graph of cells\n",
    "sc.pp.neighbors(adata, n_neighbors=10, n_pcs=80)\n",
    "# Compute the UMAP\n",
    "sc.tl.umap(adata, min_dist=0.3)\n",
    "# Perform clustering\n",
    "sc.tl.leiden(adata, resolution=1)\n",
    "# Marker gene test\n",
    "sc.tl.rank_genes_groups(adata, groupby=\"leiden\")\n",
    "# Make the data smaller before saving\n",
    "adata = adata.raw.to_adata()\n",
    "# Save the processed data\n",
    "adata.write(\"data/mouse_spleen_processed.h5ad\", compression=\"gzip\")\n",
    "```"
   ]
  },
  {
   "cell_type": "markdown",
   "metadata": {},
   "source": []
  },
  {
   "cell_type": "markdown",
   "metadata": {},
   "source": [
    "# References\n",
    "\n",
    "https://scanpy.readthedocs.io/en/stable/tutorials/index.html\n",
    "\n",
    "https://www.sc-best-practices.org/preamble.html\n"
   ]
  },
  {
   "cell_type": "markdown",
   "metadata": {},
   "source": []
  }
 ],
 "metadata": {
  "colab": {
   "include_colab_link": true,
   "provenance": []
  },
  "kernelspec": {
   "display_name": "scanpy",
   "language": "python",
   "name": "python3"
  },
  "language_info": {
   "codemirror_mode": {
    "name": "ipython",
    "version": 3
   },
   "file_extension": ".py",
   "mimetype": "text/x-python",
   "name": "python",
   "nbconvert_exporter": "python",
   "pygments_lexer": "ipython3",
   "version": "3.12.8"
  }
 },
 "nbformat": 4,
 "nbformat_minor": 0
}
